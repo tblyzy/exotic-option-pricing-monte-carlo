{
 "cells": [
  {
   "cell_type": "markdown",
   "id": "212ccbce",
   "metadata": {},
   "source": [
    "<h1>Introduction</h1>"
   ]
  },
  {
   "cell_type": "markdown",
   "id": "9076b62a",
   "metadata": {},
   "source": [
    "This report concerns of the pricing of Asian and Lookback options with the Monte Carlo scheme. We will be broadly following three steps:\n",
    "- Simulate the risk neutral price paths of the underlying asset with the Euler-Maruyama scheme.\n",
    "- Compute the option payoff for each of the price paths.\n",
    "- Take the average of the payoffs discounted back to today."
   ]
  },
  {
   "cell_type": "markdown",
   "id": "dd0cf243",
   "metadata": {},
   "source": [
    "<h2>Simulation of stock prices</h2>"
   ]
  },
  {
   "cell_type": "markdown",
   "id": "5b433c46",
   "metadata": {},
   "source": [
    "The fair value of an option is the present value of the expected payoff at expiry under a risk-neutral random walk for\n",
    "the underlying.\n",
    "\n",
    "The risk neutral price of the stock follows:\n",
    "$$\n",
    "dS = rSdt + \\sigma S dX\n",
    "$$\n",
    "Under the Euler-Maruyama Scheme, at each step\n",
    "$$\n",
    "\\Delta S = rS\\Delta t + \\sigma S \\sqrt{\\Delta t} \\phi\n",
    "$$\n",
    "where $\\phi$ is a standard normal random variable."
   ]
  },
  {
   "cell_type": "code",
   "execution_count": 42,
   "id": "c96efdb5",
   "metadata": {},
   "outputs": [],
   "source": [
    "#importing libraries\n",
    "import pandas as pd\n",
    "from numpy import *\n",
    "#for plotting\n",
    "import matplotlib.pyplot as plt\n",
    "import cufflinks as cf"
   ]
  },
  {
   "cell_type": "code",
   "execution_count": 44,
   "id": "c06ed1d9",
   "metadata": {},
   "outputs": [],
   "source": [
    "#Same function from the Monte Carlo python tutorial, except that the Euler-Maruyama scheme is used for discretisation\n",
    "def simulate_path(s0, mu, sigma, horizon, timesteps, n_sims):\n",
    "    \n",
    "    # Set the random seed for reproducibility\n",
    "    # Same seed leads to the same set of random values\n",
    "    random.seed(10000) \n",
    "\n",
    "    # Read parameters\n",
    "    S0 = s0         # initial spot level\n",
    "    r = mu          # mu = rf in risk neutral framework \n",
    "    T = horizon     # time horizion\n",
    "    t = timesteps   # number of time steps\n",
    "    n = n_sims      # number of simulation\n",
    "    \n",
    "    # Define dt\n",
    "    dt = T/t        # length of time interval  \n",
    "    \n",
    "    # Simulating 'n' asset price paths with 't' timesteps\n",
    "    S = zeros((t+1, n))\n",
    "    S[0] = S0\n",
    "\n",
    "    for i in range(1, t+1):\n",
    "        z = random.standard_normal(n)     # psuedo random numbers\n",
    "        S[i] = S[i-1] * (1 + r * dt + sigma * sqrt(dt) * z) # vectorized operation per timesteps, under Euler-Maruyama\n",
    "        \n",
    "    return S"
   ]
  },
  {
   "cell_type": "markdown",
   "id": "a816fc93",
   "metadata": {},
   "source": [
    "<h2>Payoffs of Asian and lookback options</h2>"
   ]
  },
  {
   "cell_type": "markdown",
   "id": "dd985327",
   "metadata": {},
   "source": [
    "Asian options have payoffs that are dependant on the average price of the underlying over a certain time horizon. There are various types of Asian options: The 'average' can be arithmetic or geometric average; the average can act as the asset price or the strike price; and it can be a call or a put option(right to buy or sell).\n",
    "\n",
    "For simplicity, here we consider a basic type of Asian option:\n",
    "- a call option where the arithmetic average is used as the asset price while the strike price is fixed, $E$:\n",
    "$$\n",
    "(A(T) - E)^{+}\n",
    "$$"
   ]
  },
  {
   "cell_type": "markdown",
   "id": "d780c041",
   "metadata": {},
   "source": [
    "Lookback options have payoffs that are dependant on the maximum or the minimum of the underlying prices.\n",
    "Again, we consider a basic case of lookback option:\n",
    "- a call option(to buy at the point of maximum price) where the strike price is fixed, E:\n",
    "$$\n",
    "(S_{max} - E)^{+}\n",
    "$$"
   ]
  },
  {
   "cell_type": "code",
   "execution_count": 45,
   "id": "ab99246c",
   "metadata": {},
   "outputs": [],
   "source": [
    "#Calculating payoffs from the simulated paths\n",
    "#Payoff of the asian option\n",
    "def asiancall(path, strike):\n",
    "    a = mean(path)\n",
    "    return max(a-strike, 0)\n",
    "#Payoff of the lookback option\n",
    "def lookbackcall(path, strike):\n",
    "    m = amax(path)\n",
    "    return max(m-strike, 0)\n",
    "    "
   ]
  },
  {
   "cell_type": "markdown",
   "id": "e2e67c26",
   "metadata": {},
   "source": [
    "<h2>Discounting</h2>"
   ]
  },
  {
   "cell_type": "markdown",
   "id": "2fa24a1f",
   "metadata": {},
   "source": [
    "Recall that the fair value of an option is given by the discounted payoff under the risk-neutral measure.\n",
    "$$\n",
    "V(S,t) = e^{=r(T-t)}\\mathbb{E}^{\\mathbb{Q}}[Payoff(S_{T})]\n",
    "$$\n",
    "In the Monte Carlo scheme, the expectation in risk-neutral measure is simulated by the average of payoffs calculated from every path generated with the Euler-Maruyama scheme."
   ]
  },
  {
   "cell_type": "code",
   "execution_count": 46,
   "id": "22471199",
   "metadata": {},
   "outputs": [],
   "source": [
    "#Taking in the payoff from each path, take the averange and discount back to t= 0\n",
    "def discount(payoffs, r, T):\n",
    "    return exp(-r*T)*mean(payoffs)#return the fair value of the option at t = 0"
   ]
  },
  {
   "cell_type": "markdown",
   "id": "e5a368a2",
   "metadata": {},
   "source": [
    "<h2>Implementation</h2>"
   ]
  },
  {
   "cell_type": "markdown",
   "id": "e8c714b6",
   "metadata": {},
   "source": [
    "We start from the following set of data: $S_{0} = 100$, $E = 100$, $T = 1$, $\\sigma = 0.2$, $r = 0.05$\n",
    "For the simulation, we use 252 steps, corresponding to 253 trading days in a year(including the start date).\n",
    "10000 price paths are generated."
   ]
  },
  {
   "cell_type": "code",
   "execution_count": 47,
   "id": "d28890a2",
   "metadata": {},
   "outputs": [],
   "source": [
    "#output = [price for asian option, price for lookback option]\n",
    "def monte_carlo_asian_and_lookback(s0, e, t, sigma, r, steps, n_sims):\n",
    "    \n",
    "    paths = simulate_path(s0, r, sigma, t, steps, n_sims)\n",
    "    #Calculating payoffs\n",
    "    asian_payoffs = [asiancall(paths[:,i], e) for i in range(n_sims)]\n",
    "    lookback_payoffs = [lookbackcall(paths[:, j], e) for j in range(n_sims)]\n",
    "    #calculating fair prices\n",
    "    asian_price = discount(asian_payoffs, r, t)\n",
    "    lookback_price = discount(lookback_payoffs, r, t)\n",
    "    return [asian_price, lookback_price]"
   ]
  },
  {
   "cell_type": "code",
   "execution_count": 48,
   "id": "ed282114",
   "metadata": {},
   "outputs": [
    {
     "name": "stdout",
     "output_type": "stream",
     "text": [
      "fair price for asian call:  5.635086451833339  fair price for lookback call:  18.103892585390913\n"
     ]
    }
   ],
   "source": [
    "initial_prices = monte_carlo_asian_and_lookback(100, 100, 1, 0.2, 0.05, 252, 10000)\n",
    "print('fair price for asian call: ', initial_prices[0], ' fair price for lookback call: ', initial_prices[1])"
   ]
  },
  {
   "cell_type": "markdown",
   "id": "4d8a4d14",
   "metadata": {},
   "source": [
    "We obtained the fair prices of both options with the original data through Monte Carlo simulation, now we change some of the data to see the affects on the results. We can see that the lookback call option is much more valuable than the asian call option, which is not surprising given that the maximum price is supposed to be always greater than the average price."
   ]
  },
  {
   "cell_type": "markdown",
   "id": "97609a92",
   "metadata": {},
   "source": [
    "<h2>Changing underlying stock price</h2>"
   ]
  },
  {
   "cell_type": "markdown",
   "id": "f45d76e6",
   "metadata": {},
   "source": [
    "Now we investigate how changing the underlying stock price affects option prices. Note that it is the difference between the current stock price and the strike price that actually matters, so we wouldn't need to consider different strike prices separately. "
   ]
  },
  {
   "cell_type": "code",
   "execution_count": 60,
   "id": "4424497b",
   "metadata": {},
   "outputs": [],
   "source": [
    "s0 = arange(75, 126)\n",
    "changing_stock_price = [monte_carlo_asian_and_lookback(i, 100, 1, 0.2, 0.05, 252, 10000) for i in s0]"
   ]
  },
  {
   "cell_type": "code",
   "execution_count": 61,
   "id": "6533169d",
   "metadata": {},
   "outputs": [],
   "source": [
    "changing_stock_price_array = array(changing_stock_price)"
   ]
  },
  {
   "cell_type": "code",
   "execution_count": 63,
   "id": "892a2369",
   "metadata": {},
   "outputs": [
    {
     "name": "stdout",
     "output_type": "stream",
     "text": [
      "[ 0.03598195  0.05202368  0.0738252   0.10210329  0.13823739  0.18342608\n",
      "  0.23837867  0.30582026  0.38711303  0.48340544  0.59778791  0.73206525\n",
      "  0.88888524  1.07103882  1.27939382  1.51404032  1.77598966  2.0694373\n",
      "  2.39577857  2.75369357  3.14487807  3.57052678  4.03300024  4.53254136\n",
      "  5.06637537  5.63508645  6.23404763  6.86469286  7.52641484  8.21874441\n",
      "  8.93768404  9.68444986 10.45541965 11.24752182 12.05916414 12.88906869\n",
      " 13.7349069  14.59592951 15.47089233 16.35903032 17.25879331 18.16956641\n",
      " 19.08846837 20.01531427 20.94945565 21.88979089 22.83510641 23.78465579\n",
      " 24.73745616 25.69395104 26.6537836 ]\n"
     ]
    }
   ],
   "source": [
    "print(changing_stock_price_array[:,0])"
   ]
  },
  {
   "cell_type": "code",
   "execution_count": 64,
   "id": "8a72cfbd",
   "metadata": {},
   "outputs": [
    {
     "data": {
      "text/plain": [
       "Text(0, 0.5, 'Option Value')"
      ]
     },
     "execution_count": 64,
     "metadata": {},
     "output_type": "execute_result"
    },
    {
     "data": {
      "image/png": "[encoded data removed]",
      "text/plain": [
       "<Figure size 432x288 with 1 Axes>"
      ]
     },
     "metadata": {
      "needs_background": "light"
     },
     "output_type": "display_data"
    }
   ],
   "source": [
    "# plotting using matplotlib\n",
    "\n",
    "# payoff plot for asian call option\n",
    "plt.plot(s0,changing_stock_price_array[:,0],color='g')\n",
    "plt.title('Price for Asian Call Option')\n",
    "plt.xlabel('Spot Prices')\n",
    "plt.ylabel('Option Value')"
   ]
  },
  {
   "cell_type": "code",
   "execution_count": 66,
   "id": "245182e4",
   "metadata": {},
   "outputs": [
    {
     "data": {
      "text/plain": [
       "Text(0, 0.5, 'Option Value')"
      ]
     },
     "execution_count": 66,
     "metadata": {},
     "output_type": "execute_result"
    },
    {
     "data": {
      "image/png": "[encoded data removed]",
      "text/plain": [
       "<Figure size 432x288 with 1 Axes>"
      ]
     },
     "metadata": {
      "needs_background": "light"
     },
     "output_type": "display_data"
    }
   ],
   "source": [
    "# payoff plot for lookback call option\n",
    "plt.plot(s0,changing_stock_price_array[:,1],color='g')\n",
    "plt.title('Price for Lookback Call Option')\n",
    "plt.xlabel('Spot Prices')\n",
    "plt.ylabel('Option Value')"
   ]
  },
  {
   "cell_type": "markdown",
   "id": "b1062851",
   "metadata": {},
   "source": [
    "We can see the values of both options increase as the stock prices increase. The values approaches 0 rapidly as they go out of money and approaches a linear relationship with the spot price as they go in the money. The gradient(delta) changes more rapidly for the asian option than the lookback option."
   ]
  },
  {
   "cell_type": "markdown",
   "id": "77d8c68d",
   "metadata": {},
   "source": [
    "<h2>Changing volaitility</h2>"
   ]
  },
  {
   "cell_type": "markdown",
   "id": "b31842e1",
   "metadata": {},
   "source": [
    "Now we investigate how changing volaitility affects the results."
   ]
  },
  {
   "cell_type": "code",
   "execution_count": 72,
   "id": "108d392c",
   "metadata": {},
   "outputs": [],
   "source": [
    "sigma = arange(0, 0.4, 0.02)\n",
    "changing_volaitility = array([monte_carlo_asian_and_lookback(100, 100, 1, i, 0.05, 252, 10000) for i in sigma])"
   ]
  },
  {
   "cell_type": "code",
   "execution_count": 73,
   "id": "7bbaa83d",
   "metadata": {},
   "outputs": [
    {
     "data": {
      "text/plain": [
       "Text(0, 0.5, 'Option Value')"
      ]
     },
     "execution_count": 73,
     "metadata": {},
     "output_type": "execute_result"
    },
    {
     "data": {
      "image/png": "[encoded data removed]",
      "text/plain": [
       "<Figure size 432x288 with 1 Axes>"
      ]
     },
     "metadata": {
      "needs_background": "light"
     },
     "output_type": "display_data"
    }
   ],
   "source": [
    "# payoff plot for asian call option\n",
    "plt.plot(sigma,changing_volaitility[:,0],color='g')\n",
    "plt.title('Price for Asian Call Option')\n",
    "plt.xlabel('Volaitility')\n",
    "plt.ylabel('Option Value')"
   ]
  },
  {
   "cell_type": "code",
   "execution_count": 76,
   "id": "e095d9e1",
   "metadata": {},
   "outputs": [
    {
     "data": {
      "text/plain": [
       "Text(0, 0.5, 'Option Value')"
      ]
     },
     "execution_count": 76,
     "metadata": {},
     "output_type": "execute_result"
    },
    {
     "data": {
      "image/png": "[encoded data removed]",
      "text/plain": [
       "<Figure size 432x288 with 1 Axes>"
      ]
     },
     "metadata": {
      "needs_background": "light"
     },
     "output_type": "display_data"
    }
   ],
   "source": [
    "plt.plot(sigma,changing_volaitility[:,1],color='g')\n",
    "plt.title('Price for lookback Call Option')\n",
    "plt.xlabel('Volaitility')\n",
    "plt.ylabel('Option Value')"
   ]
  },
  {
   "cell_type": "markdown",
   "id": "d5fe009c",
   "metadata": {},
   "source": [
    "The value of both options increase as volaitivity increase. This is expected as options are supposed to hedge against change in underlying prices."
   ]
  },
  {
   "cell_type": "markdown",
   "id": "9dbb5837",
   "metadata": {},
   "source": [
    "<h2>Changing Interest Rate</h2>"
   ]
  },
  {
   "cell_type": "markdown",
   "id": "6aa599bc",
   "metadata": {},
   "source": [
    "Now we investigate how changing risk free interest rate affects the results."
   ]
  },
  {
   "cell_type": "code",
   "execution_count": 75,
   "id": "116897d2",
   "metadata": {},
   "outputs": [],
   "source": [
    "r = arange(0, 0.1, 0.005)\n",
    "changing_rates = array([monte_carlo_asian_and_lookback(100, 100, 1, 0.20, i, 252, 10000) for i in r])"
   ]
  },
  {
   "cell_type": "code",
   "execution_count": 77,
   "id": "28c0f789",
   "metadata": {},
   "outputs": [
    {
     "data": {
      "text/plain": [
       "Text(0, 0.5, 'Option Value')"
      ]
     },
     "execution_count": 77,
     "metadata": {},
     "output_type": "execute_result"
    },
    {
     "data": {
      "image/png": "[encoded data removed]",
      "text/plain": [
       "<Figure size 432x288 with 1 Axes>"
      ]
     },
     "metadata": {
      "needs_background": "light"
     },
     "output_type": "display_data"
    }
   ],
   "source": [
    "# payoff plot for asian call option\n",
    "plt.plot(r,changing_rates[:,0],color='g')\n",
    "plt.title('Price for Asian Call Option')\n",
    "plt.xlabel('Risk Free Rate')\n",
    "plt.ylabel('Option Value')"
   ]
  },
  {
   "cell_type": "code",
   "execution_count": 78,
   "id": "314b3e4b",
   "metadata": {},
   "outputs": [
    {
     "data": {
      "text/plain": [
       "Text(0, 0.5, 'Option Value')"
      ]
     },
     "execution_count": 78,
     "metadata": {},
     "output_type": "execute_result"
    },
    {
     "data": {
      "image/png": "[encoded data removed]",
      "text/plain": [
       "<Figure size 432x288 with 1 Axes>"
      ]
     },
     "metadata": {
      "needs_background": "light"
     },
     "output_type": "display_data"
    }
   ],
   "source": [
    "plt.plot(r,changing_rates[:,1],color='g')\n",
    "plt.title('Price for lookback Call Option')\n",
    "plt.xlabel('Risk Free Rate')\n",
    "plt.ylabel('Option Value')"
   ]
  },
  {
   "cell_type": "markdown",
   "id": "2903e2ce",
   "metadata": {},
   "source": [
    "Both have a linear relationship with the risk free rate as expected given how we fomulate the price path with the Euler-Maruyama scheme(linear relationship with r)."
   ]
  },
  {
   "cell_type": "markdown",
   "id": "0b2df673",
   "metadata": {},
   "source": [
    "<h2>Changing time horizon</h2>"
   ]
  },
  {
   "cell_type": "markdown",
   "id": "b7622248",
   "metadata": {},
   "source": [
    "Now we investigate how changing time horizon affects the results. For computational convenience, the number of steps remain unchanged even if changing time means each step no longer represent one trading date, which shouldn't affect the big picture."
   ]
  },
  {
   "cell_type": "code",
   "execution_count": 79,
   "id": "002abe96",
   "metadata": {},
   "outputs": [],
   "source": [
    "t = arange(0.1, 2, 0.1)\n",
    "changing_time = array([monte_carlo_asian_and_lookback(100, 100, i, 0.20, 0.05, 252, 10000) for i in t])"
   ]
  },
  {
   "cell_type": "code",
   "execution_count": 80,
   "id": "0487e724",
   "metadata": {},
   "outputs": [
    {
     "data": {
      "text/plain": [
       "Text(0, 0.5, 'Option Value')"
      ]
     },
     "execution_count": 80,
     "metadata": {},
     "output_type": "execute_result"
    },
    {
     "data": {
      "image/png": "[encoded data removed]",
      "text/plain": [
       "<Figure size 432x288 with 1 Axes>"
      ]
     },
     "metadata": {
      "needs_background": "light"
     },
     "output_type": "display_data"
    }
   ],
   "source": [
    "# payoff plot for asian call option\n",
    "plt.plot(t,changing_time[:,0],color='g')\n",
    "plt.title('Price for Asian Call Option')\n",
    "plt.xlabel('Time Horizon')\n",
    "plt.ylabel('Option Value')"
   ]
  },
  {
   "cell_type": "code",
   "execution_count": 81,
   "id": "b79b9002",
   "metadata": {
    "scrolled": true
   },
   "outputs": [
    {
     "data": {
      "text/plain": [
       "Text(0, 0.5, 'Option Value')"
      ]
     },
     "execution_count": 81,
     "metadata": {},
     "output_type": "execute_result"
    },
    {
     "data": {
      "image/png": "[encoded data removed]",
      "text/plain": [
       "<Figure size 432x288 with 1 Axes>"
      ]
     },
     "metadata": {
      "needs_background": "light"
     },
     "output_type": "display_data"
    }
   ],
   "source": [
    "# payoff plot for lookback call option\n",
    "plt.plot(t,changing_time[:,1],color='g')\n",
    "plt.title('Price for lookback Call Option')\n",
    "plt.xlabel('Time Horizon')\n",
    "plt.ylabel('Option Value')"
   ]
  },
  {
   "cell_type": "markdown",
   "id": "8545b1d1",
   "metadata": {},
   "source": [
    "The value of the option increase as time horizon increase, as expected given the time value of money."
   ]
  },
  {
   "cell_type": "markdown",
   "id": "64d7089f",
   "metadata": {},
   "source": [
    "<h1>References</h1>"
   ]
  },
  {
   "cell_type": "markdown",
   "id": "caf0a5ce",
   "metadata": {},
   "source": [
    "This work is mainly based on the notes from the fourth and fifth lecture in module 3 and the Monte Carlo Simulation python workshop."
   ]
  }
 ],
 "metadata": {
  "kernelspec": {
   "display_name": "Python 3",
   "language": "python",
   "name": "python3"
  },
  "language_info": {
   "codemirror_mode": {
    "name": "ipython",
    "version": 3
   },
   "file_extension": ".py",
   "mimetype": "text/x-python",
   "name": "python",
   "nbconvert_exporter": "python",
   "pygments_lexer": "ipython3",
   "version": "3.8.8"
  }
 },
 "nbformat": 4,
 "nbformat_minor": 5
}
